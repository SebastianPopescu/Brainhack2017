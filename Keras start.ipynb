{
 "cells": [
  {
   "cell_type": "code",
   "execution_count": 1,
   "metadata": {
    "collapsed": true
   },
   "outputs": [],
   "source": [
    "import numpy as np\n",
    "import nibabel as nib\n",
    "import os\n",
    "\n",
    "import matplotlib.pyplot as plt\n",
    "import seaborn as sns\n",
    "\n",
    "from pylab import rcParams\n",
    "\n",
    "from sklearn.preprocessing import scale\n",
    "import pandas as pd\n",
    "\n",
    "from tqdm import tqdm_notebook as tqdm\n",
    "from sklearn.model_selection import KFold\n",
    "\n",
    "from sklearn.metrics import mean_absolute_error as MAE\n",
    "\n",
    "def make_age_list(files, age_df):\n",
    "    age_list = []\n",
    "    for file in files:\n",
    "        ID = file[17:25]\n",
    "        age_list.append(df.loc[df[0] == ID][1].values[0])\n",
    "    return age_list"
   ]
  },
  {
   "cell_type": "code",
   "execution_count": 10,
   "metadata": {
    "collapsed": false
   },
   "outputs": [],
   "source": [
    "from keras.preprocessing.image import ImageDataGenerator\n",
    "from keras.applications.inception_v3 import InceptionV3\n",
    "from keras.applications.vgg19 import VGG19\n",
    "from keras.applications.resnet50 import ResNet50\n",
    "from keras.applications.xception import Xception\n",
    "\n",
    "from keras.models import Model "
   ]
  },
  {
   "cell_type": "code",
   "execution_count": 34,
   "metadata": {
    "collapsed": false
   },
   "outputs": [],
   "source": [
    "def preprocess_data(data, k):\n",
    "    new_data = np.zeros((data.shape[0], 121, 121, 3))\n",
    "    for i in range(3):\n",
    "        new_data[...,0] = data[:,:,k,:]\n",
    "    new_data /= np.max(new_data)\n",
    "    return new_data\n",
    "    "
   ]
  },
  {
   "cell_type": "code",
   "execution_count": 39,
   "metadata": {
    "collapsed": false
   },
   "outputs": [
    {
     "data": {
      "text/plain": [
       "(645, 121, 121, 3)"
      ]
     },
     "execution_count": 39,
     "metadata": {},
     "output_type": "execute_result"
    }
   ],
   "source": [
    "new_data = preprocess_data(data,60)\n",
    "new_data.shape"
   ]
  },
  {
   "cell_type": "code",
   "execution_count": 2,
   "metadata": {
    "collapsed": true
   },
   "outputs": [],
   "source": [
    "#reading white matter and age files\n",
    "\n",
    "files = os.listdir('wm_data')\n",
    "df = pd.read_csv('original_participant_data.tsv', header=None, sep='\\t')\n",
    "ages = make_age_list(files,df)\n",
    "\n",
    "data = np.zeros((len(files), 121,145,121))\n",
    "for sub in range(len(files)):\n",
    "    img = nib.load('wm_data/'+files[sub])\n",
    "    data[sub,...] = img.get_data()"
   ]
  },
  {
   "cell_type": "code",
   "execution_count": 61,
   "metadata": {
    "collapsed": false
   },
   "outputs": [],
   "source": [
    "xception = Xception(include_top=False, weights='imagenet', \n",
    "                        input_tensor=None, input_shape=(121,121,3), pooling=None, classes=1000)"
   ]
  },
  {
   "cell_type": "code",
   "execution_count": null,
   "metadata": {
    "collapsed": false,
    "scrolled": true
   },
   "outputs": [
    {
     "name": "stdout",
     "output_type": "stream",
     "text": [
      "\n"
     ]
    }
   ],
   "source": [
    "act_layers = []\n",
    "shapes = []\n",
    "for layer in xception.layers:\n",
    "    if layer.name[-3:] == 'act':\n",
    "        act_layers.append(layer.name)\n",
    "        shapes.append(np.prod(layer.output.get_shape().as_list()[1:]))\n",
    "        \n",
    "features = []\n",
    "\n",
    "feature_data = np.zeros((645, 26, 46592))\n",
    "counter = 0\n",
    "for i in tqdm(range(len(shapes))):\n",
    "    if shapes[i] == 46592:\n",
    "        model = Model(inputs=xception.input, outputs=xception.get_layer(act_layers[i]).output)\n",
    "        feature_data[:,counter,:] = model.predict(new_data).reshape(645, 46592)\n",
    "        counter += 1"
   ]
  }
 ],
 "metadata": {
  "anaconda-cloud": {},
  "kernelspec": {
   "display_name": "Python [default]",
   "language": "python",
   "name": "python3"
  },
  "language_info": {
   "codemirror_mode": {
    "name": "ipython",
    "version": 3
   },
   "file_extension": ".py",
   "mimetype": "text/x-python",
   "name": "python",
   "nbconvert_exporter": "python",
   "pygments_lexer": "ipython3",
   "version": "3.5.2"
  },
  "widgets": {
   "state": {
    "a498c648fd764a9a8e460f4536417c90": {
     "views": [
      {
       "cell_index": 6
      }
     ]
    }
   },
   "version": "1.2.0"
  }
 },
 "nbformat": 4,
 "nbformat_minor": 1
}
