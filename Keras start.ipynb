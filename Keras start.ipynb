{
 "cells": [
  {
   "cell_type": "code",
   "execution_count": 1,
   "metadata": {
    "collapsed": false
   },
   "outputs": [
    {
     "name": "stderr",
     "output_type": "stream",
     "text": [
      "Using TensorFlow backend.\n"
     ]
    }
   ],
   "source": [
    "import numpy as np\n",
    "import nibabel as nib\n",
    "import os\n",
    "\n",
    "import matplotlib.pyplot as plt\n",
    "import seaborn as sns\n",
    "\n",
    "from pylab import rcParams\n",
    "\n",
    "from sklearn.preprocessing import scale, StandardScaler\n",
    "from sklearn.linear_model import Lasso, Ridge\n",
    "\n",
    "import pandas as pd\n",
    "\n",
    "from tqdm import tqdm_notebook as tqdm\n",
    "from sklearn.model_selection import KFold\n",
    "\n",
    "from sklearn.ensemble import RandomForestRegressor\n",
    "from sklearn.metrics import mean_absolute_error as MAE\n",
    "\n",
    "import gc\n",
    "\n",
    "from keras.preprocessing.image import ImageDataGenerator\n",
    "from keras.applications.inception_v3 import InceptionV3\n",
    "from keras.applications.vgg19 import VGG19\n",
    "from keras.applications.resnet50 import ResNet50\n",
    "from keras.applications.xception import Xception\n",
    "from keras.models import Model\n",
    "from keras import backend as K\n",
    "\n",
    "def make_age_list(files, age_df):\n",
    "    age_list = []\n",
    "    for file in files:\n",
    "        ID = file[17:25]\n",
    "        age_list.append(df.loc[df[0] == ID][1].values[0])\n",
    "    return np.array(age_list)"
   ]
  },
  {
   "cell_type": "code",
   "execution_count": 2,
   "metadata": {
    "collapsed": false
   },
   "outputs": [],
   "source": [
    "def preprocess_data(data, k, axis = 1):\n",
    "    std = StandardScaler()\n",
    "    if axis == 0:\n",
    "        mask = np.var(data[:,k,:,:],0)\n",
    "    elif axis == 1:\n",
    "        mask = np.var(data[:,:,k,:],0)\n",
    "    else:\n",
    "        mask = np.var(data[:,:,:,k],0)\n",
    "    #old_mask = 0.00001 464\n",
    "    mask[mask < 0.000001] = 0\n",
    "    mask = ~mask.astype(bool)\n",
    "    if axis == 0:\n",
    "        new_data = np.zeros((data.shape[0], 145, 121, 3))\n",
    "        for i in range(3):\n",
    "            for j in range(121):\n",
    "                new_data[:,j,:,i] = std.fit_transform(data[:,k-10+10*i,j,:])\n",
    "            new_data[:,mask,i] = 0\n",
    "        new_data = new_data[:,12:133,:,:]\n",
    "    elif axis == 1:\n",
    "        new_data = np.zeros((data.shape[0], 121, 121, 3))\n",
    "        for i in range(3):\n",
    "            for j in range(121):\n",
    "                new_data[:,j,:,i] = std.fit_transform(data[:,j,k-10+10*i,:])\n",
    "            new_data[:,mask,i] = 0\n",
    "    elif axis == 2:\n",
    "        new_data = np.zeros((data.shape[0], 121, 145, 3))\n",
    "        for i in range(3):\n",
    "            for j in range(121):\n",
    "                new_data[:,j,:,i] = std.fit_transform(data[:,j,:,k-10+10*i])\n",
    "            new_data[:,mask,i] = 0\n",
    "        new_data = new_data[:,:,12:133,:]\n",
    "    return new_data.astype(np.float16)"
   ]
  },
  {
   "cell_type": "code",
   "execution_count": 3,
   "metadata": {
    "collapsed": false
   },
   "outputs": [],
   "source": [
    "folder_wm = 'wm_data'\n",
    "folder_gm = 'gm_data'\n",
    "\n",
    "files_wm = os.listdir(folder_wm)\n",
    "files_gm = os.listdir(folder_gm)\n",
    "\n",
    "df = pd.read_csv('original_participant_data.tsv', header=None, sep='\\t')\n",
    "ages = make_age_list(files_wm,df)\n",
    "\n",
    "gc.collect()\n",
    "data = np.zeros((len(files_wm), 121,145,121, 2))\n",
    "for sub in range(len(files_wm)):\n",
    "    ID = files_wm[sub]\n",
    "    img = nib.load(folder_wm + '/'+ID)\n",
    "    data[sub,...,0] = img.get_data()\n",
    "for sub in range(len(files_gm)):\n",
    "    ID = files_wm[sub]\n",
    "    \n",
    "    \n",
    "    #Its a dirty hack, but its a hackathon right? There is no time for smarter parsing\n",
    "    ID = ID[:4] + '1' + ID[5:]\n",
    "\n",
    "    img = nib.load(folder_gm + '/'+ID)\n",
    "    data[sub,...,1] = img.get_data()"
   ]
  },
  {
   "cell_type": "code",
   "execution_count": 4,
   "metadata": {
    "collapsed": false,
    "scrolled": true
   },
   "outputs": [
    {
     "data": {
      "text/plain": [
       "22"
      ]
     },
     "execution_count": 4,
     "metadata": {},
     "output_type": "execute_result"
    }
   ],
   "source": [
    "new_data = []\n",
    "for i in range(2):\n",
    "    new_data.append(preprocess_data(data[...,i],60, 0))\n",
    "    new_data.append(preprocess_data(data[...,i],72, 1))\n",
    "    new_data.append(preprocess_data(data[...,i],60, 2))\n",
    "data = []\n",
    "gc.collect()"
   ]
  },
  {
   "cell_type": "code",
   "execution_count": 5,
   "metadata": {
    "collapsed": false
   },
   "outputs": [
    {
     "name": "stdout",
     "output_type": "stream",
     "text": [
      "\n"
     ]
    }
   ],
   "source": [
    "xception = Xception(include_top=False, weights='imagenet', \n",
    "                        input_tensor=None, input_shape=(121,121,3), pooling=None, classes=1000)\n",
    "\n",
    "xception_model = Model(inputs=xception.input, outputs=xception.get_layer('block14_sepconv2_act').output)\n",
    "inp = xception_model.input                                           # input placeholder\n",
    "outputs = [xception.layers[19].output]     # all layer outputs\n",
    "functor = K.function([inp]+ [K.learning_phase()], outputs ) # evaluation function\n",
    "\n",
    "xception_features = []\n",
    "\n",
    "for i in tqdm(range(6)):\n",
    "    xception_features.append(functor([new_data[i][:,:121,:121,:], 1.]))"
   ]
  },
  {
   "cell_type": "code",
   "execution_count": 6,
   "metadata": {
    "collapsed": false,
    "scrolled": true
   },
   "outputs": [
    {
     "name": "stderr",
     "output_type": "stream",
     "text": [
      "/home/adam/anaconda3/lib/python3.5/site-packages/scipy/linalg/basic.py:223: RuntimeWarning: scipy.linalg.solve\n",
      "Ill-conditioned matrix detected. Result is not guaranteed to be accurate.\n",
      "Reciprocal condition number: 1.5292773714037367e-09\n",
      "  ' condition number: {}'.format(rcond), RuntimeWarning)\n",
      "/home/adam/anaconda3/lib/python3.5/site-packages/scipy/linalg/basic.py:223: RuntimeWarning: scipy.linalg.solve\n",
      "Ill-conditioned matrix detected. Result is not guaranteed to be accurate.\n",
      "Reciprocal condition number: 1.6127221780237733e-09\n",
      "  ' condition number: {}'.format(rcond), RuntimeWarning)\n",
      "/home/adam/anaconda3/lib/python3.5/site-packages/scipy/linalg/basic.py:223: RuntimeWarning: scipy.linalg.solve\n",
      "Ill-conditioned matrix detected. Result is not guaranteed to be accurate.\n",
      "Reciprocal condition number: 1.4905051637370548e-09\n",
      "  ' condition number: {}'.format(rcond), RuntimeWarning)\n",
      "/home/adam/anaconda3/lib/python3.5/site-packages/scipy/linalg/basic.py:223: RuntimeWarning: scipy.linalg.solve\n",
      "Ill-conditioned matrix detected. Result is not guaranteed to be accurate.\n",
      "Reciprocal condition number: 1.4671509562802498e-09\n",
      "  ' condition number: {}'.format(rcond), RuntimeWarning)\n",
      "/home/adam/anaconda3/lib/python3.5/site-packages/scipy/linalg/basic.py:223: RuntimeWarning: scipy.linalg.solve\n",
      "Ill-conditioned matrix detected. Result is not guaranteed to be accurate.\n",
      "Reciprocal condition number: 1.6007871694867504e-09\n",
      "  ' condition number: {}'.format(rcond), RuntimeWarning)\n",
      "/home/adam/anaconda3/lib/python3.5/site-packages/scipy/linalg/basic.py:223: RuntimeWarning: scipy.linalg.solve\n",
      "Ill-conditioned matrix detected. Result is not guaranteed to be accurate.\n",
      "Reciprocal condition number: 3.1867127603391054e-08\n",
      "  ' condition number: {}'.format(rcond), RuntimeWarning)\n",
      "/home/adam/anaconda3/lib/python3.5/site-packages/scipy/linalg/basic.py:223: RuntimeWarning: scipy.linalg.solve\n",
      "Ill-conditioned matrix detected. Result is not guaranteed to be accurate.\n",
      "Reciprocal condition number: 1.3032250834044135e-09\n",
      "  ' condition number: {}'.format(rcond), RuntimeWarning)\n",
      "/home/adam/anaconda3/lib/python3.5/site-packages/scipy/linalg/basic.py:223: RuntimeWarning: scipy.linalg.solve\n",
      "Ill-conditioned matrix detected. Result is not guaranteed to be accurate.\n",
      "Reciprocal condition number: 1.502250879248379e-09\n",
      "  ' condition number: {}'.format(rcond), RuntimeWarning)\n",
      "/home/adam/anaconda3/lib/python3.5/site-packages/scipy/linalg/basic.py:223: RuntimeWarning: scipy.linalg.solve\n",
      "Ill-conditioned matrix detected. Result is not guaranteed to be accurate.\n",
      "Reciprocal condition number: 1.4923590141435739e-09\n",
      "  ' condition number: {}'.format(rcond), RuntimeWarning)\n",
      "/home/adam/anaconda3/lib/python3.5/site-packages/scipy/linalg/basic.py:223: RuntimeWarning: scipy.linalg.solve\n",
      "Ill-conditioned matrix detected. Result is not guaranteed to be accurate.\n",
      "Reciprocal condition number: 1.5404060249579743e-09\n",
      "  ' condition number: {}'.format(rcond), RuntimeWarning)\n"
     ]
    },
    {
     "name": "stdout",
     "output_type": "stream",
     "text": [
      "\n",
      "4.65012173616\n"
     ]
    }
   ],
   "source": [
    "kf = KFold(10)\n",
    "\n",
    "predicted_ages = np.zeros(645)\n",
    "model = Ridge()\n",
    "features = np.concatenate([xception_features[0][0], xception_features[1][0], \n",
    "                              xception_features[2][0], xception_features[3][0],\n",
    "                          xception_features[4][0], xception_features[5][0]], 1)\n",
    "features = features.reshape(645, np.prod(features.shape[1:]))\n",
    "#     chosen = np.random.choice(features.shape[1], 128000)\n",
    "#     features = features[:,chosen]\n",
    "for i_train, i_test in tqdm(kf.split(features, ages)):\n",
    "    model.fit(features[i_train,:], ages[i_train])\n",
    "    predicted_ages[i_test] = model.predict(features[i_test,:])\n",
    "print(MAE(ages, predicted_ages))"
   ]
  },
  {
   "cell_type": "code",
   "execution_count": null,
   "metadata": {
    "collapsed": true
   },
   "outputs": [],
   "source": []
  },
  {
   "cell_type": "code",
   "execution_count": null,
   "metadata": {
    "collapsed": true
   },
   "outputs": [],
   "source": []
  },
  {
   "cell_type": "code",
   "execution_count": null,
   "metadata": {
    "collapsed": true
   },
   "outputs": [],
   "source": []
  },
  {
   "cell_type": "code",
   "execution_count": null,
   "metadata": {
    "collapsed": true
   },
   "outputs": [],
   "source": []
  },
  {
   "cell_type": "code",
   "execution_count": null,
   "metadata": {
    "collapsed": true
   },
   "outputs": [],
   "source": []
  },
  {
   "cell_type": "code",
   "execution_count": 33,
   "metadata": {
    "collapsed": false
   },
   "outputs": [],
   "source": [
    "small_layers = []\n",
    "sizes = []\n",
    "for layer in xception.layers:\n",
    "    if np.prod(layer.output.get_shape().as_list()[1:]) < 250000:\n",
    "        small_layers.append(layer)\n",
    "        sizes.append(np.prod(layer.output.get_shape().as_list()[1:]))"
   ]
  },
  {
   "cell_type": "code",
   "execution_count": 3,
   "metadata": {
    "collapsed": false
   },
   "outputs": [],
   "source": [
    "#reading white matter and age files\n",
    "\n",
    "files = os.listdir('gm_data')\n",
    "df = pd.read_csv('original_participant_data.tsv', header=None, sep='\\t')\n",
    "ages = make_age_list(files,df)\n",
    "\n",
    "data = np.zeros((len(files), 121,145,121))\n",
    "for sub in range(len(files)):\n",
    "    img = nib.load('gm_data/'+files[sub])\n",
    "    data[sub,...] = img.get_data()"
   ]
  }
 ],
 "metadata": {
  "anaconda-cloud": {},
  "kernelspec": {
   "display_name": "Python [default]",
   "language": "python",
   "name": "python3"
  },
  "language_info": {
   "codemirror_mode": {
    "name": "ipython",
    "version": 3
   },
   "file_extension": ".py",
   "mimetype": "text/x-python",
   "name": "python",
   "nbconvert_exporter": "python",
   "pygments_lexer": "ipython3",
   "version": "3.5.2"
  },
  "widgets": {
   "state": {
    "36f3e39fd6864857b6d4c95e48c7d280": {
     "views": [
      {
       "cell_index": 5
      }
     ]
    },
    "54a1e34c2ebf47a1ba8faf185255606c": {
     "views": [
      {
       "cell_index": 5
      }
     ]
    },
    "57e59cb3f8d0440dad0d5d434e7f8421": {
     "views": [
      {
       "cell_index": 5
      }
     ]
    },
    "6f3c1a2616f74a43b537712a802a619a": {
     "views": [
      {
       "cell_index": 5
      }
     ]
    },
    "95b2e5106fb5413c8af5293a4dbf8879": {
     "views": [
      {
       "cell_index": 5
      }
     ]
    },
    "a60300a9c7ac45a0968c08e5dbd2c368": {
     "views": [
      {
       "cell_index": 5
      }
     ]
    },
    "afd78448fed74a68a99f84661f78ce54": {
     "views": [
      {
       "cell_index": 4
      }
     ]
    },
    "ec9bd8b8822f435799e3b37b94321103": {
     "views": [
      {
       "cell_index": 5
      }
     ]
    },
    "f19d417d2e314947a91bffabdb2ddadb": {
     "views": [
      {
       "cell_index": 5
      }
     ]
    }
   },
   "version": "1.2.0"
  }
 },
 "nbformat": 4,
 "nbformat_minor": 1
}
