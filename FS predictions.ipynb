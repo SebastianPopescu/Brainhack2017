{
 "cells": [
  {
   "cell_type": "code",
   "execution_count": 73,
   "metadata": {
    "collapsed": false
   },
   "outputs": [],
   "source": [
    "import numpy as np\n",
    "import pandas as pd\n",
    "from sklearn.linear_model import Ridge\n",
    "from sklearn.model_selection import KFold\n",
    "from tqdm import tqdm_notebook as tqdm\n",
    "from sklearn.metrics import mean_absolute_error as MAE\n",
    "from sklearn.ensemble import RandomForestRegressor, ExtraTreesRegressor"
   ]
  },
  {
   "cell_type": "code",
   "execution_count": 46,
   "metadata": {
    "collapsed": false
   },
   "outputs": [],
   "source": [
    "folder = 'Freesurfer_data'\n",
    "big_FS = np.loadtxt('Freesurfer_data/freesurfer_outputs.txt', delimiter = ',')\n",
    "small_FS = np.loadtxt('Freesurfer_data/freesurfer_outputs_camcan.txt', delimiter = ',')\n",
    "big_age = np.loadtxt('Freesurfer_data/Y_freesurfer_banc_2016.txt', delimiter = ',')\n",
    "small_age = np.loadtxt('Freesurfer_data/Y_freesurfer_camcan.txt', delimiter = ',')\n",
    "age = np.concatenate([big_age, small_age], 0)\n",
    "FS = np.concatenate([big_FS, small_FS], 0)\n",
    "\n",
    "# big_FS = np.loadtxt('Freesurfer_data/freesurfer_outputs.txt', delimiter = ',')"
   ]
  },
  {
   "cell_type": "code",
   "execution_count": 72,
   "metadata": {
    "collapsed": false,
    "scrolled": true
   },
   "outputs": [
    {
     "name": "stderr",
     "output_type": "stream",
     "text": [
      "/home/adam/anaconda3/lib/python3.5/site-packages/scipy/linalg/basic.py:223: RuntimeWarning: scipy.linalg.solve\n",
      "Ill-conditioned matrix detected. Result is not guaranteed to be accurate.\n",
      "Reciprocal condition number: 2.5286040057562448e-17\n",
      "  ' condition number: {}'.format(rcond), RuntimeWarning)\n",
      "/home/adam/anaconda3/lib/python3.5/site-packages/scipy/linalg/basic.py:223: RuntimeWarning: scipy.linalg.solve\n",
      "Ill-conditioned matrix detected. Result is not guaranteed to be accurate.\n",
      "Reciprocal condition number: 2.5415278762713592e-17\n",
      "  ' condition number: {}'.format(rcond), RuntimeWarning)\n",
      "/home/adam/anaconda3/lib/python3.5/site-packages/scipy/linalg/basic.py:223: RuntimeWarning: scipy.linalg.solve\n",
      "Ill-conditioned matrix detected. Result is not guaranteed to be accurate.\n",
      "Reciprocal condition number: 2.542416631974623e-17\n",
      "  ' condition number: {}'.format(rcond), RuntimeWarning)\n",
      "/home/adam/anaconda3/lib/python3.5/site-packages/scipy/linalg/basic.py:223: RuntimeWarning: scipy.linalg.solve\n",
      "Ill-conditioned matrix detected. Result is not guaranteed to be accurate.\n",
      "Reciprocal condition number: 2.5057219729128466e-17\n",
      "  ' condition number: {}'.format(rcond), RuntimeWarning)\n",
      "/home/adam/anaconda3/lib/python3.5/site-packages/scipy/linalg/basic.py:223: RuntimeWarning: scipy.linalg.solve\n",
      "Ill-conditioned matrix detected. Result is not guaranteed to be accurate.\n",
      "Reciprocal condition number: 2.5902417946365278e-17\n",
      "  ' condition number: {}'.format(rcond), RuntimeWarning)\n",
      "/home/adam/anaconda3/lib/python3.5/site-packages/scipy/linalg/basic.py:223: RuntimeWarning: scipy.linalg.solve\n",
      "Ill-conditioned matrix detected. Result is not guaranteed to be accurate.\n",
      "Reciprocal condition number: 2.541883100520594e-17\n",
      "  ' condition number: {}'.format(rcond), RuntimeWarning)\n",
      "/home/adam/anaconda3/lib/python3.5/site-packages/scipy/linalg/basic.py:223: RuntimeWarning: scipy.linalg.solve\n",
      "Ill-conditioned matrix detected. Result is not guaranteed to be accurate.\n",
      "Reciprocal condition number: 2.6292365122645934e-17\n",
      "  ' condition number: {}'.format(rcond), RuntimeWarning)\n",
      "/home/adam/anaconda3/lib/python3.5/site-packages/scipy/linalg/basic.py:223: RuntimeWarning: scipy.linalg.solve\n",
      "Ill-conditioned matrix detected. Result is not guaranteed to be accurate.\n",
      "Reciprocal condition number: 2.4611173189452357e-17\n",
      "  ' condition number: {}'.format(rcond), RuntimeWarning)\n"
     ]
    },
    {
     "name": "stdout",
     "output_type": "stream",
     "text": [
      "\n",
      "6.53249118991\n"
     ]
    },
    {
     "name": "stderr",
     "output_type": "stream",
     "text": [
      "/home/adam/anaconda3/lib/python3.5/site-packages/scipy/linalg/basic.py:223: RuntimeWarning: scipy.linalg.solve\n",
      "Ill-conditioned matrix detected. Result is not guaranteed to be accurate.\n",
      "Reciprocal condition number: 2.4160179662455456e-17\n",
      "  ' condition number: {}'.format(rcond), RuntimeWarning)\n",
      "/home/adam/anaconda3/lib/python3.5/site-packages/scipy/linalg/basic.py:223: RuntimeWarning: scipy.linalg.solve\n",
      "Ill-conditioned matrix detected. Result is not guaranteed to be accurate.\n",
      "Reciprocal condition number: 2.492164720572642e-17\n",
      "  ' condition number: {}'.format(rcond), RuntimeWarning)\n"
     ]
    }
   ],
   "source": [
    "n_splits = 10\n",
    "model = Ridge()\n",
    "kf = KFold(n_splits)\n",
    "predicted_age = np.zeros(age.shape)\n",
    "for i_train,i_test in tqdm(kf.split(FS,age)):\n",
    "    model.fit(FS[i_train,:], age[i_train])\n",
    "    predicted_age[i_test] = model.predict(FS[i_test,:])\n",
    "print(MAE(age, predicted_age))"
   ]
  },
  {
   "cell_type": "code",
   "execution_count": null,
   "metadata": {
    "collapsed": true
   },
   "outputs": [],
   "source": []
  }
 ],
 "metadata": {
  "kernelspec": {
   "display_name": "Python [default]",
   "language": "python",
   "name": "python3"
  },
  "language_info": {
   "codemirror_mode": {
    "name": "ipython",
    "version": 3
   },
   "file_extension": ".py",
   "mimetype": "text/x-python",
   "name": "python",
   "nbconvert_exporter": "python",
   "pygments_lexer": "ipython3",
   "version": "3.5.2"
  },
  "widgets": {
   "state": {
    "465c11b18b794adb9a22bda045395af3": {
     "views": [
      {
       "cell_index": 3
      }
     ]
    }
   },
   "version": "1.2.0"
  }
 },
 "nbformat": 4,
 "nbformat_minor": 1
}
